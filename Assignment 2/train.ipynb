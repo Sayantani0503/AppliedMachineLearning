{
  "nbformat": 4,
  "nbformat_minor": 0,
  "metadata": {
    "colab": {
      "provenance": []
    },
    "kernelspec": {
      "name": "python3",
      "display_name": "Python 3"
    },
    "language_info": {
      "name": "python"
    }
  },
  "cells": [
    {
      "cell_type": "markdown",
      "source": [
        "**Name : Sayantani Saha**\n",
        "\n",
        "**Roll No.: MDS202345**"
      ],
      "metadata": {
        "id": "-lJ1UMAlht0U"
      }
    },
    {
      "cell_type": "code",
      "source": [
        "!pip install mlflow"
      ],
      "metadata": {
        "colab": {
          "base_uri": "https://localhost:8080/"
        },
        "collapsed": true,
        "id": "IHpXSJqHhtZI",
        "outputId": "3067b9c6-6a8f-4650-9f78-854e1dd5e47d"
      },
      "execution_count": 1,
      "outputs": [
        {
          "output_type": "stream",
          "name": "stdout",
          "text": [
            "Requirement already satisfied: mlflow in /usr/local/lib/python3.11/dist-packages (2.20.3)\n",
            "Requirement already satisfied: mlflow-skinny==2.20.3 in /usr/local/lib/python3.11/dist-packages (from mlflow) (2.20.3)\n",
            "Requirement already satisfied: Flask<4 in /usr/local/lib/python3.11/dist-packages (from mlflow) (3.1.0)\n",
            "Requirement already satisfied: Jinja2<4,>=2.11 in /usr/local/lib/python3.11/dist-packages (from mlflow) (3.1.5)\n",
            "Requirement already satisfied: alembic!=1.10.0,<2 in /usr/local/lib/python3.11/dist-packages (from mlflow) (1.14.1)\n",
            "Requirement already satisfied: docker<8,>=4.0.0 in /usr/local/lib/python3.11/dist-packages (from mlflow) (7.1.0)\n",
            "Requirement already satisfied: graphene<4 in /usr/local/lib/python3.11/dist-packages (from mlflow) (3.4.3)\n",
            "Requirement already satisfied: gunicorn<24 in /usr/local/lib/python3.11/dist-packages (from mlflow) (23.0.0)\n",
            "Requirement already satisfied: markdown<4,>=3.3 in /usr/local/lib/python3.11/dist-packages (from mlflow) (3.7)\n",
            "Requirement already satisfied: matplotlib<4 in /usr/local/lib/python3.11/dist-packages (from mlflow) (3.10.0)\n",
            "Requirement already satisfied: numpy<3 in /usr/local/lib/python3.11/dist-packages (from mlflow) (1.26.4)\n",
            "Requirement already satisfied: pandas<3 in /usr/local/lib/python3.11/dist-packages (from mlflow) (2.2.2)\n",
            "Requirement already satisfied: pyarrow<20,>=4.0.0 in /usr/local/lib/python3.11/dist-packages (from mlflow) (18.1.0)\n",
            "Requirement already satisfied: scikit-learn<2 in /usr/local/lib/python3.11/dist-packages (from mlflow) (1.6.1)\n",
            "Requirement already satisfied: scipy<2 in /usr/local/lib/python3.11/dist-packages (from mlflow) (1.13.1)\n",
            "Requirement already satisfied: sqlalchemy<3,>=1.4.0 in /usr/local/lib/python3.11/dist-packages (from mlflow) (2.0.38)\n",
            "Requirement already satisfied: cachetools<6,>=5.0.0 in /usr/local/lib/python3.11/dist-packages (from mlflow-skinny==2.20.3->mlflow) (5.5.2)\n",
            "Requirement already satisfied: click<9,>=7.0 in /usr/local/lib/python3.11/dist-packages (from mlflow-skinny==2.20.3->mlflow) (8.1.8)\n",
            "Requirement already satisfied: cloudpickle<4 in /usr/local/lib/python3.11/dist-packages (from mlflow-skinny==2.20.3->mlflow) (3.1.1)\n",
            "Requirement already satisfied: databricks-sdk<1,>=0.20.0 in /usr/local/lib/python3.11/dist-packages (from mlflow-skinny==2.20.3->mlflow) (0.44.1)\n",
            "Requirement already satisfied: gitpython<4,>=3.1.9 in /usr/local/lib/python3.11/dist-packages (from mlflow-skinny==2.20.3->mlflow) (3.1.44)\n",
            "Requirement already satisfied: importlib_metadata!=4.7.0,<9,>=3.7.0 in /usr/local/lib/python3.11/dist-packages (from mlflow-skinny==2.20.3->mlflow) (8.6.1)\n",
            "Requirement already satisfied: opentelemetry-api<3,>=1.9.0 in /usr/local/lib/python3.11/dist-packages (from mlflow-skinny==2.20.3->mlflow) (1.16.0)\n",
            "Requirement already satisfied: opentelemetry-sdk<3,>=1.9.0 in /usr/local/lib/python3.11/dist-packages (from mlflow-skinny==2.20.3->mlflow) (1.16.0)\n",
            "Requirement already satisfied: packaging<25 in /usr/local/lib/python3.11/dist-packages (from mlflow-skinny==2.20.3->mlflow) (24.2)\n",
            "Requirement already satisfied: protobuf<6,>=3.12.0 in /usr/local/lib/python3.11/dist-packages (from mlflow-skinny==2.20.3->mlflow) (4.25.6)\n",
            "Requirement already satisfied: pydantic<3,>=1.10.8 in /usr/local/lib/python3.11/dist-packages (from mlflow-skinny==2.20.3->mlflow) (2.10.6)\n",
            "Requirement already satisfied: pyyaml<7,>=5.1 in /usr/local/lib/python3.11/dist-packages (from mlflow-skinny==2.20.3->mlflow) (6.0.2)\n",
            "Requirement already satisfied: requests<3,>=2.17.3 in /usr/local/lib/python3.11/dist-packages (from mlflow-skinny==2.20.3->mlflow) (2.32.3)\n",
            "Requirement already satisfied: sqlparse<1,>=0.4.0 in /usr/local/lib/python3.11/dist-packages (from mlflow-skinny==2.20.3->mlflow) (0.5.3)\n",
            "Requirement already satisfied: typing-extensions<5,>=4.0.0 in /usr/local/lib/python3.11/dist-packages (from mlflow-skinny==2.20.3->mlflow) (4.12.2)\n",
            "Requirement already satisfied: Mako in /usr/local/lib/python3.11/dist-packages (from alembic!=1.10.0,<2->mlflow) (1.3.9)\n",
            "Requirement already satisfied: urllib3>=1.26.0 in /usr/local/lib/python3.11/dist-packages (from docker<8,>=4.0.0->mlflow) (2.3.0)\n",
            "Requirement already satisfied: Werkzeug>=3.1 in /usr/local/lib/python3.11/dist-packages (from Flask<4->mlflow) (3.1.3)\n",
            "Requirement already satisfied: itsdangerous>=2.2 in /usr/local/lib/python3.11/dist-packages (from Flask<4->mlflow) (2.2.0)\n",
            "Requirement already satisfied: blinker>=1.9 in /usr/local/lib/python3.11/dist-packages (from Flask<4->mlflow) (1.9.0)\n",
            "Requirement already satisfied: graphql-core<3.3,>=3.1 in /usr/local/lib/python3.11/dist-packages (from graphene<4->mlflow) (3.2.6)\n",
            "Requirement already satisfied: graphql-relay<3.3,>=3.1 in /usr/local/lib/python3.11/dist-packages (from graphene<4->mlflow) (3.2.0)\n",
            "Requirement already satisfied: python-dateutil<3,>=2.7.0 in /usr/local/lib/python3.11/dist-packages (from graphene<4->mlflow) (2.8.2)\n",
            "Requirement already satisfied: MarkupSafe>=2.0 in /usr/local/lib/python3.11/dist-packages (from Jinja2<4,>=2.11->mlflow) (3.0.2)\n",
            "Requirement already satisfied: contourpy>=1.0.1 in /usr/local/lib/python3.11/dist-packages (from matplotlib<4->mlflow) (1.3.1)\n",
            "Requirement already satisfied: cycler>=0.10 in /usr/local/lib/python3.11/dist-packages (from matplotlib<4->mlflow) (0.12.1)\n",
            "Requirement already satisfied: fonttools>=4.22.0 in /usr/local/lib/python3.11/dist-packages (from matplotlib<4->mlflow) (4.56.0)\n",
            "Requirement already satisfied: kiwisolver>=1.3.1 in /usr/local/lib/python3.11/dist-packages (from matplotlib<4->mlflow) (1.4.8)\n",
            "Requirement already satisfied: pillow>=8 in /usr/local/lib/python3.11/dist-packages (from matplotlib<4->mlflow) (11.1.0)\n",
            "Requirement already satisfied: pyparsing>=2.3.1 in /usr/local/lib/python3.11/dist-packages (from matplotlib<4->mlflow) (3.2.1)\n",
            "Requirement already satisfied: pytz>=2020.1 in /usr/local/lib/python3.11/dist-packages (from pandas<3->mlflow) (2025.1)\n",
            "Requirement already satisfied: tzdata>=2022.7 in /usr/local/lib/python3.11/dist-packages (from pandas<3->mlflow) (2025.1)\n",
            "Requirement already satisfied: joblib>=1.2.0 in /usr/local/lib/python3.11/dist-packages (from scikit-learn<2->mlflow) (1.4.2)\n",
            "Requirement already satisfied: threadpoolctl>=3.1.0 in /usr/local/lib/python3.11/dist-packages (from scikit-learn<2->mlflow) (3.5.0)\n",
            "Requirement already satisfied: greenlet!=0.4.17 in /usr/local/lib/python3.11/dist-packages (from sqlalchemy<3,>=1.4.0->mlflow) (3.1.1)\n",
            "Requirement already satisfied: google-auth~=2.0 in /usr/local/lib/python3.11/dist-packages (from databricks-sdk<1,>=0.20.0->mlflow-skinny==2.20.3->mlflow) (2.27.0)\n",
            "Requirement already satisfied: gitdb<5,>=4.0.1 in /usr/local/lib/python3.11/dist-packages (from gitpython<4,>=3.1.9->mlflow-skinny==2.20.3->mlflow) (4.0.12)\n",
            "Requirement already satisfied: zipp>=3.20 in /usr/local/lib/python3.11/dist-packages (from importlib_metadata!=4.7.0,<9,>=3.7.0->mlflow-skinny==2.20.3->mlflow) (3.21.0)\n",
            "Requirement already satisfied: deprecated>=1.2.6 in /usr/local/lib/python3.11/dist-packages (from opentelemetry-api<3,>=1.9.0->mlflow-skinny==2.20.3->mlflow) (1.2.18)\n",
            "Requirement already satisfied: setuptools>=16.0 in /usr/local/lib/python3.11/dist-packages (from opentelemetry-api<3,>=1.9.0->mlflow-skinny==2.20.3->mlflow) (75.1.0)\n",
            "Requirement already satisfied: opentelemetry-semantic-conventions==0.37b0 in /usr/local/lib/python3.11/dist-packages (from opentelemetry-sdk<3,>=1.9.0->mlflow-skinny==2.20.3->mlflow) (0.37b0)\n",
            "Requirement already satisfied: annotated-types>=0.6.0 in /usr/local/lib/python3.11/dist-packages (from pydantic<3,>=1.10.8->mlflow-skinny==2.20.3->mlflow) (0.7.0)\n",
            "Requirement already satisfied: pydantic-core==2.27.2 in /usr/local/lib/python3.11/dist-packages (from pydantic<3,>=1.10.8->mlflow-skinny==2.20.3->mlflow) (2.27.2)\n",
            "Requirement already satisfied: six>=1.5 in /usr/local/lib/python3.11/dist-packages (from python-dateutil<3,>=2.7.0->graphene<4->mlflow) (1.17.0)\n",
            "Requirement already satisfied: charset-normalizer<4,>=2 in /usr/local/lib/python3.11/dist-packages (from requests<3,>=2.17.3->mlflow-skinny==2.20.3->mlflow) (3.4.1)\n",
            "Requirement already satisfied: idna<4,>=2.5 in /usr/local/lib/python3.11/dist-packages (from requests<3,>=2.17.3->mlflow-skinny==2.20.3->mlflow) (3.10)\n",
            "Requirement already satisfied: certifi>=2017.4.17 in /usr/local/lib/python3.11/dist-packages (from requests<3,>=2.17.3->mlflow-skinny==2.20.3->mlflow) (2025.1.31)\n",
            "Requirement already satisfied: wrapt<2,>=1.10 in /usr/local/lib/python3.11/dist-packages (from deprecated>=1.2.6->opentelemetry-api<3,>=1.9.0->mlflow-skinny==2.20.3->mlflow) (1.17.2)\n",
            "Requirement already satisfied: smmap<6,>=3.0.1 in /usr/local/lib/python3.11/dist-packages (from gitdb<5,>=4.0.1->gitpython<4,>=3.1.9->mlflow-skinny==2.20.3->mlflow) (5.0.2)\n",
            "Requirement already satisfied: pyasn1-modules>=0.2.1 in /usr/local/lib/python3.11/dist-packages (from google-auth~=2.0->databricks-sdk<1,>=0.20.0->mlflow-skinny==2.20.3->mlflow) (0.4.1)\n",
            "Requirement already satisfied: rsa<5,>=3.1.4 in /usr/local/lib/python3.11/dist-packages (from google-auth~=2.0->databricks-sdk<1,>=0.20.0->mlflow-skinny==2.20.3->mlflow) (4.9)\n",
            "Requirement already satisfied: pyasn1<0.7.0,>=0.4.6 in /usr/local/lib/python3.11/dist-packages (from pyasn1-modules>=0.2.1->google-auth~=2.0->databricks-sdk<1,>=0.20.0->mlflow-skinny==2.20.3->mlflow) (0.6.1)\n"
          ]
        }
      ]
    },
    {
      "cell_type": "code",
      "source": [
        "import mlflow\n",
        "import mlflow.sklearn\n",
        "import pandas as pd\n",
        "import numpy as np\n",
        "import matplotlib.pyplot as plt\n",
        "from sklearn.model_selection import train_test_split , GridSearchCV\n",
        "from sklearn.feature_extraction.text import TfidfVectorizer\n",
        "from sklearn.linear_model import LogisticRegression\n",
        "from sklearn.tree import DecisionTreeClassifier\n",
        "from sklearn.ensemble import RandomForestClassifier\n",
        "from sklearn.svm import SVC\n",
        "from sklearn.pipeline import Pipeline\n",
        "from sklearn.metrics import precision_recall_curve, auc, confusion_matrix, classification_report, ConfusionMatrixDisplay\n",
        "from urllib.parse import urlparse\n",
        "import warnings\n",
        "warnings.filterwarnings('ignore')"
      ],
      "metadata": {
        "id": "MeT1dGhHwsA2"
      },
      "execution_count": 2,
      "outputs": []
    },
    {
      "cell_type": "code",
      "source": [
        "# Load dataset from saved CSV files\n",
        "train_data = pd.read_csv(\"/content/train.csv\")\n",
        "val_data = pd.read_csv(\"/content/validation.csv\")\n",
        "test_data = pd.read_csv(\"/content/test.csv\")\n",
        "\n",
        "# Define features and target\n",
        "X_train, y_train = train_data[\"message\"], train_data[\"label\"]\n",
        "X_val, y_val = val_data[\"message\"], val_data[\"label\"]\n",
        "X_test, y_test = test_data[\"message\"], test_data[\"label\"]\n",
        "\n",
        "# Print dataset shapes\n",
        "print(f\"Training set: {X_train.shape}, Validation set: {X_val.shape}, Test set: {X_test.shape}\")\n"
      ],
      "metadata": {
        "colab": {
          "base_uri": "https://localhost:8080/"
        },
        "id": "LwW_LYSroRlh",
        "outputId": "fb720ac4-b106-419c-e4d3-36e10afd8d30"
      },
      "execution_count": 3,
      "outputs": [
        {
          "output_type": "stream",
          "name": "stdout",
          "text": [
            "Training set: (4457,), Validation set: (892,), Test set: (223,)\n"
          ]
        }
      ]
    },
    {
      "cell_type": "code",
      "source": [
        "# Set the MLflow experiment\n",
        "mlflow.set_experiment(\"Benchmark_Models\")"
      ],
      "metadata": {
        "colab": {
          "base_uri": "https://localhost:8080/"
        },
        "id": "LBRqUIMihtMO",
        "outputId": "42a086f1-9041-4692-de73-7390c9121113"
      },
      "execution_count": 4,
      "outputs": [
        {
          "output_type": "execute_result",
          "data": {
            "text/plain": [
              "<Experiment: artifact_location='file:///content/mlruns/846762707972949121', creation_time=1740999226052, experiment_id='846762707972949121', last_update_time=1740999226052, lifecycle_stage='active', name='Benchmark_Models', tags={}>"
            ]
          },
          "metadata": {},
          "execution_count": 4
        }
      ]
    },
    {
      "cell_type": "code",
      "source": [
        "# Hyperparameter grids\n",
        "param_grid = {\n",
        "    \"LogisticRegression\": {\n",
        "        'tfidf__max_features': [1000, 2000, 5000],\n",
        "        'clf__C': [0.01, 0.1, 1, 10, 100],\n",
        "        'clf__penalty': ['l1', 'l2'],\n",
        "        'clf__solver': ['liblinear', 'saga']\n",
        "    },\n",
        "    \"RandomForest\": {\n",
        "        'tfidf__max_features': [1000, 2000, 5000],\n",
        "        'clf__n_estimators': [50, 100, 200],\n",
        "        'clf__max_depth': [10, 20, None],\n",
        "        'clf__min_samples_split': [2, 5, 10]\n",
        "    },\n",
        "    \"DecisionTree\": {\n",
        "        'tfidf__max_features': [1000, 2000, 5000],\n",
        "        'clf__max_depth': [10, 20, None],\n",
        "        'clf__min_samples_split': [2, 5, 10],\n",
        "        'clf__min_samples_leaf': [1, 2, 4],\n",
        "        'clf__criterion': ['gini', 'entropy']\n",
        "    },\n",
        "    \"SVC\": {\n",
        "        'tfidf__max_features': [1000, 2000, 5000],\n",
        "        'clf__C': [0.1, 1, 10],\n",
        "        'clf__kernel': ['linear', 'rbf'],\n",
        "        'clf__gamma': ['scale', 'auto']\n",
        "\n",
        "\n",
        "    },\n",
        "}\n",
        "\n",
        "# Define models\n",
        "models = {\n",
        "    \"LogisticRegression\": LogisticRegression(random_state=42, max_iter=2000),\n",
        "    \"RandomForest\": RandomForestClassifier(random_state=42),\n",
        "    \"DecisionTree\": DecisionTreeClassifier(random_state=42),\n",
        "    \"SVC\": SVC(probability=True, random_state=42)  # Ensure predict_proba is available\n",
        "}\n"
      ],
      "metadata": {
        "id": "pYVlPv_Jtt7n"
      },
      "execution_count": 5,
      "outputs": []
    },
    {
      "cell_type": "code",
      "source": [
        "# Function to train and log models\n",
        "def train_and_log_model(model_name, model, tune_hyperparams=False):\n",
        "    print(f\"\\n🔍 Training {model_name} (Hyperparameter Tuning: {tune_hyperparams})...\")\n",
        "\n",
        "    pipeline = Pipeline([\n",
        "        ('tfidf', TfidfVectorizer()),\n",
        "        ('clf', model)\n",
        "    ])\n",
        "\n",
        "    if tune_hyperparams and model_name in param_grid:\n",
        "        search = GridSearchCV(pipeline, param_grid[model_name], cv=3, verbose=1, n_jobs=-1, scoring='accuracy')\n",
        "        pipeline = search.fit(X_train, y_train).best_estimator_  # Get best pipeline\n",
        "        best_params = search.best_params_\n",
        "    else:\n",
        "        pipeline.fit(X_train, y_train)\n",
        "        best_params = None\n",
        "\n",
        "    # Predictions on validation set\n",
        "    y_val_pred_proba = pipeline.predict_proba(X_val)[:, 1]\n",
        "\n",
        "    # Compute AUCPR\n",
        "    precision, recall, _ = precision_recall_curve(y_val, y_val_pred_proba)\n",
        "    aucpr = auc(recall, precision)\n",
        "\n",
        "    # Log results in MLflow\n",
        "    with mlflow.start_run(run_name=f\"{model_name}_Hyperparameter_Tuning\" if tune_hyperparams else model_name):\n",
        "        if best_params:\n",
        "            mlflow.log_params(best_params)\n",
        "        mlflow.log_param(\"model_name\", model_name)\n",
        "        mlflow.log_metric(\"Validation_AUCPR\", aucpr)\n",
        "        mlflow.sklearn.log_model(pipeline, f\"Best_{model_name}_Model\")\n",
        "\n",
        "    # Print results\n",
        "    print(f\"✅ {model_name}: Validation AUCPR = {aucpr:.4f}\")\n",
        "\n",
        "    return pipeline, aucpr"
      ],
      "metadata": {
        "id": "SBJ_yIp8t2U6"
      },
      "execution_count": 6,
      "outputs": []
    },
    {
      "cell_type": "code",
      "source": [
        "# Train models with hyperparameter tuning for Logistic Regression and Random Forest\n",
        "trained_models = {}\n",
        "aucpr_scores = {}\n",
        "\n",
        "for name, model in models.items():\n",
        "    tune_hyperparams = name in [\"LogisticRegression\", \"RandomForest\", \"DecisionTree\" ]\n",
        "    trained_models[name], aucpr_scores[name] = train_and_log_model(name, model, tune_hyperparams)\n",
        "\n",
        "# Print AUCPR scores\n",
        "print(\"\\n📊 Benchmark Model AUCPR Scores:\")\n",
        "for name, score in aucpr_scores.items():\n",
        "    print(f\"{name}: {score:.4f}\")\n",
        "\n",
        "# Final evaluation on test set using the best model\n",
        "best_model_name = max(aucpr_scores, key=aucpr_scores.get)\n",
        "best_model = trained_models[best_model_name]\n",
        "\n",
        "y_test_pred_proba = best_model.predict_proba(X_test)[:, 1]\n",
        "precision, recall, _ = precision_recall_curve(y_test, y_test_pred_proba)\n",
        "aucpr_test = auc(recall, precision)\n",
        "\n",
        "print(f\"\\n🏆 Final Evaluation on Test Set - {best_model_name}: AUCPR = {aucpr_test:.4f}\")\n",
        "\n",
        "# Confusion Matrix\n",
        "y_test_pred = best_model.predict(X_test)\n",
        "cm = confusion_matrix(y_test, y_test_pred)\n",
        "print(\"\\nConfusion Matrix:\\n\", cm)\n",
        "\n",
        "# Classification Report\n",
        "print(\"\\nClassification Report:\\n\", classification_report(y_test, y_test_pred))"
      ],
      "metadata": {
        "colab": {
          "base_uri": "https://localhost:8080/"
        },
        "id": "_QlB51tjuS-0",
        "outputId": "e3b0ee44-a0ab-4f9a-9501-30b7ef2882e0"
      },
      "execution_count": 7,
      "outputs": [
        {
          "output_type": "stream",
          "name": "stdout",
          "text": [
            "\n",
            "🔍 Training LogisticRegression (Hyperparameter Tuning: True)...\n",
            "Fitting 3 folds for each of 60 candidates, totalling 180 fits\n"
          ]
        },
        {
          "output_type": "stream",
          "name": "stderr",
          "text": [
            "\u001b[31m2025/03/03 11:29:39 WARNING mlflow.models.model: Model logged without a signature and input example. Please set `input_example` parameter when logging the model to auto infer the model signature.\u001b[0m\n"
          ]
        },
        {
          "output_type": "stream",
          "name": "stdout",
          "text": [
            "✅ LogisticRegression: Validation AUCPR = 0.9917\n",
            "\n",
            "🔍 Training RandomForest (Hyperparameter Tuning: True)...\n",
            "Fitting 3 folds for each of 81 candidates, totalling 243 fits\n"
          ]
        },
        {
          "output_type": "stream",
          "name": "stderr",
          "text": [
            "\u001b[31m2025/03/03 11:32:17 WARNING mlflow.models.model: Model logged without a signature and input example. Please set `input_example` parameter when logging the model to auto infer the model signature.\u001b[0m\n"
          ]
        },
        {
          "output_type": "stream",
          "name": "stdout",
          "text": [
            "✅ RandomForest: Validation AUCPR = 0.9878\n",
            "\n",
            "🔍 Training DecisionTree (Hyperparameter Tuning: True)...\n",
            "Fitting 3 folds for each of 162 candidates, totalling 486 fits\n"
          ]
        },
        {
          "output_type": "stream",
          "name": "stderr",
          "text": [
            "\u001b[31m2025/03/03 11:33:44 WARNING mlflow.models.model: Model logged without a signature and input example. Please set `input_example` parameter when logging the model to auto infer the model signature.\u001b[0m\n"
          ]
        },
        {
          "output_type": "stream",
          "name": "stdout",
          "text": [
            "✅ DecisionTree: Validation AUCPR = 0.8323\n",
            "\n",
            "🔍 Training SVC (Hyperparameter Tuning: False)...\n"
          ]
        },
        {
          "output_type": "stream",
          "name": "stderr",
          "text": [
            "\u001b[31m2025/03/03 11:34:00 WARNING mlflow.models.model: Model logged without a signature and input example. Please set `input_example` parameter when logging the model to auto infer the model signature.\u001b[0m\n"
          ]
        },
        {
          "output_type": "stream",
          "name": "stdout",
          "text": [
            "✅ SVC: Validation AUCPR = 0.9922\n",
            "\n",
            "📊 Benchmark Model AUCPR Scores:\n",
            "LogisticRegression: 0.9917\n",
            "RandomForest: 0.9878\n",
            "DecisionTree: 0.8323\n",
            "SVC: 0.9922\n",
            "\n",
            "🏆 Final Evaluation on Test Set - SVC: AUCPR = 0.9980\n",
            "\n",
            "Confusion Matrix:\n",
            " [[201   0]\n",
            " [  1  21]]\n",
            "\n",
            "Classification Report:\n",
            "               precision    recall  f1-score   support\n",
            "\n",
            "           0       1.00      1.00      1.00       201\n",
            "           1       1.00      0.95      0.98        22\n",
            "\n",
            "    accuracy                           1.00       223\n",
            "   macro avg       1.00      0.98      0.99       223\n",
            "weighted avg       1.00      1.00      1.00       223\n",
            "\n"
          ]
        }
      ]
    },
    {
      "cell_type": "code",
      "source": [
        "# Predict on test set using the best model (SVC)\n",
        "pred_y = best_model.predict(X_test)\n",
        "\n",
        "# Print classification report\n",
        "print(classification_report(pred_y, y_test))\n",
        "\n",
        "# Display confusion matrix\n",
        "ConfusionMatrixDisplay.from_estimator(best_model, X_test, y_test)\n",
        "plt.show()\n"
      ],
      "metadata": {
        "colab": {
          "base_uri": "https://localhost:8080/",
          "height": 609
        },
        "id": "TO-twkIJrAaP",
        "outputId": "b08ef7bc-1f4e-40cb-d4b4-0299de9abfc1"
      },
      "execution_count": 8,
      "outputs": [
        {
          "output_type": "stream",
          "name": "stdout",
          "text": [
            "              precision    recall  f1-score   support\n",
            "\n",
            "           0       1.00      1.00      1.00       202\n",
            "           1       0.95      1.00      0.98        21\n",
            "\n",
            "    accuracy                           1.00       223\n",
            "   macro avg       0.98      1.00      0.99       223\n",
            "weighted avg       1.00      1.00      1.00       223\n",
            "\n"
          ]
        },
        {
          "output_type": "display_data",
          "data": {
            "text/plain": [
              "<Figure size 640x480 with 2 Axes>"
            ],
            "image/png": "[encoded data removed]"
          },
          "metadata": {}
        }
      ]
    }
  ]
}