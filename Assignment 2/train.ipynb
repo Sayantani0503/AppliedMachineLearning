{
  "nbformat": 4,
  "nbformat_minor": 0,
  "metadata": {
    "colab": {
      "provenance": []
    },
    "kernelspec": {
      "name": "python3",
      "display_name": "Python 3"
    },
    "language_info": {
      "name": "python"
    }
  },
  "cells": [
    {
      "cell_type": "markdown",
      "source": [
        "**Name : Sayantani Saha**\n",
        "\n",
        "**Roll No.: MDS202345**"
      ],
      "metadata": {
        "id": "-lJ1UMAlht0U"
      }
    },
    {
      "cell_type": "code",
      "source": [
        "!pip install mlflow"
      ],
      "metadata": {
        "collapsed": true,
        "id": "IHpXSJqHhtZI"
      },
      "execution_count": null,
      "outputs": []
    },
    {
      "cell_type": "code",
      "source": [
        "import mlflow\n",
        "import mlflow.sklearn\n",
        "import pandas as pd\n",
        "import numpy as np\n",
        "import matplotlib.pyplot as plt\n",
        "from sklearn.model_selection import train_test_split , GridSearchCV\n",
        "from sklearn.feature_extraction.text import TfidfVectorizer\n",
        "from sklearn.linear_model import LogisticRegression\n",
        "from sklearn.tree import DecisionTreeClassifier\n",
        "from sklearn.ensemble import RandomForestClassifier\n",
        "from sklearn.svm import SVC\n",
        "from sklearn.pipeline import Pipeline\n",
        "from sklearn.metrics import precision_recall_curve, auc, confusion_matrix, classification_report, ConfusionMatrixDisplay\n",
        "from urllib.parse import urlparse\n",
        "import warnings\n",
        "warnings.filterwarnings('ignore')"
      ],
      "metadata": {
        "id": "MeT1dGhHwsA2"
      },
      "execution_count": 2,
      "outputs": []
    },
    {
      "cell_type": "code",
      "source": [
        "# Load dataset from saved CSV files\n",
        "train_data = pd.read_csv(\"/content/train.csv\")\n",
        "val_data = pd.read_csv(\"/content/validation.csv\")\n",
        "test_data = pd.read_csv(\"/content/test.csv\")\n",
        "\n",
        "# Define features and target\n",
        "X_train, y_train = train_data[\"message\"], train_data[\"label\"]\n",
        "X_val, y_val = val_data[\"message\"], val_data[\"label\"]\n",
        "X_test, y_test = test_data[\"message\"], test_data[\"label\"]\n",
        "\n",
        "# Print dataset shapes\n",
        "print(f\"Training set: {X_train.shape}, Validation set: {X_val.shape}, Test set: {X_test.shape}\")\n"
      ],
      "metadata": {
        "colab": {
          "base_uri": "https://localhost:8080/"
        },
        "id": "LwW_LYSroRlh",
        "outputId": "801eebce-ea55-4a46-82e3-4ee882cf3af5"
      },
      "execution_count": 3,
      "outputs": [
        {
          "output_type": "stream",
          "name": "stdout",
          "text": [
            "Training set: (4135,), Validation set: (827,), Test set: (207,)\n"
          ]
        }
      ]
    },
    {
      "cell_type": "code",
      "source": [
        "# Set the MLflow experiment\n",
        "mlflow.set_experiment(\"Benchmark_Models\")"
      ],
      "metadata": {
        "colab": {
          "base_uri": "https://localhost:8080/"
        },
        "id": "LBRqUIMihtMO",
        "outputId": "2de32f17-1650-41de-f67f-df9372648eb2"
      },
      "execution_count": 4,
      "outputs": [
        {
          "output_type": "stream",
          "name": "stderr",
          "text": [
            "2025/03/03 17:51:57 INFO mlflow.tracking.fluent: Experiment with name 'Benchmark_Models' does not exist. Creating a new experiment.\n"
          ]
        },
        {
          "output_type": "execute_result",
          "data": {
            "text/plain": [
              "<Experiment: artifact_location='file:///content/mlruns/222011404458477103', creation_time=1741024317271, experiment_id='222011404458477103', last_update_time=1741024317271, lifecycle_stage='active', name='Benchmark_Models', tags={}>"
            ]
          },
          "metadata": {},
          "execution_count": 4
        }
      ]
    },
    {
      "cell_type": "code",
      "source": [
        "# Hyperparameter grids\n",
        "param_grid = {\n",
        "    \"LogisticRegression\": {\n",
        "        'tfidf__max_features': [1000, 2000, 5000],\n",
        "        'clf__C': [0.01, 0.1, 1, 10, 100],\n",
        "        'clf__penalty': ['l1', 'l2'],\n",
        "        'clf__solver': ['liblinear', 'saga']\n",
        "    },\n",
        "    \"RandomForest\": {\n",
        "        'tfidf__max_features': [1000, 2000, 5000],\n",
        "        'clf__n_estimators': [50, 100, 200],\n",
        "        'clf__max_depth': [10, 20, None],\n",
        "        'clf__min_samples_split': [2, 5, 10]\n",
        "    },\n",
        "    \"DecisionTree\": {\n",
        "        'tfidf__max_features': [1000, 2000, 5000],\n",
        "        'clf__max_depth': [10, 20, None],\n",
        "        'clf__min_samples_split': [2, 5, 10],\n",
        "        'clf__min_samples_leaf': [1, 2, 4],\n",
        "        'clf__criterion': ['gini', 'entropy']\n",
        "    },\n",
        "    \"SVC\": {\n",
        "        'tfidf__max_features': [1000, 2000, 5000],\n",
        "        'clf__C': [0.1, 1, 10],\n",
        "        'clf__kernel': ['linear', 'rbf'],\n",
        "        'clf__gamma': ['scale', 'auto']\n",
        "\n",
        "\n",
        "    },\n",
        "}\n",
        "\n",
        "# Define models\n",
        "models = {\n",
        "    \"LogisticRegression\": LogisticRegression(random_state=42, max_iter=2000),\n",
        "    \"RandomForest\": RandomForestClassifier(random_state=42),\n",
        "    \"DecisionTree\": DecisionTreeClassifier(random_state=42),\n",
        "    \"SVC\": SVC(probability=True, random_state=42)  # Ensure predict_proba is available\n",
        "}\n"
      ],
      "metadata": {
        "id": "pYVlPv_Jtt7n"
      },
      "execution_count": 5,
      "outputs": []
    },
    {
      "cell_type": "code",
      "source": [
        "# Function to train and log models\n",
        "def train_and_log_model(model_name, model, tune_hyperparams=False):\n",
        "    print(f\"\\n🔍 Training {model_name} (Hyperparameter Tuning: {tune_hyperparams})...\")\n",
        "\n",
        "    pipeline = Pipeline([\n",
        "        ('tfidf', TfidfVectorizer()),\n",
        "        ('clf', model)\n",
        "    ])\n",
        "\n",
        "    if tune_hyperparams and model_name in param_grid:\n",
        "        search = GridSearchCV(pipeline, param_grid[model_name], cv=3, verbose=1, n_jobs=-1, scoring='accuracy')\n",
        "        pipeline = search.fit(X_train, y_train).best_estimator_  # Get best pipeline\n",
        "        best_params = search.best_params_\n",
        "    else:\n",
        "        pipeline.fit(X_train, y_train)\n",
        "        best_params = None\n",
        "\n",
        "    # Predictions on validation set\n",
        "    y_val_pred_proba = pipeline.predict_proba(X_val)[:, 1]\n",
        "\n",
        "    # Compute AUCPR\n",
        "    precision, recall, _ = precision_recall_curve(y_val, y_val_pred_proba)\n",
        "    aucpr = auc(recall, precision)\n",
        "\n",
        "    # Log results in MLflow\n",
        "    with mlflow.start_run(run_name=f\"{model_name}_Hyperparameter_Tuning\" if tune_hyperparams else model_name):\n",
        "        if best_params:\n",
        "            mlflow.log_params(best_params)\n",
        "        mlflow.log_param(\"model_name\", model_name)\n",
        "        mlflow.log_metric(\"Validation_AUCPR\", aucpr)\n",
        "        mlflow.sklearn.log_model(pipeline, f\"Best_{model_name}_Model\")\n",
        "\n",
        "    # Print results\n",
        "    print(f\"✅ {model_name}: Validation AUCPR = {aucpr:.4f}\")\n",
        "\n",
        "    return pipeline, aucpr"
      ],
      "metadata": {
        "id": "SBJ_yIp8t2U6"
      },
      "execution_count": 6,
      "outputs": []
    },
    {
      "cell_type": "code",
      "source": [
        "# Train models with hyperparameter tuning for Logistic Regression and Random Forest\n",
        "trained_models = {}\n",
        "aucpr_scores = {}\n",
        "\n",
        "for name, model in models.items():\n",
        "    tune_hyperparams = name in [\"LogisticRegression\", \"RandomForest\", \"DecisionTree\" ]\n",
        "    trained_models[name], aucpr_scores[name] = train_and_log_model(name, model, tune_hyperparams)\n",
        "\n",
        "# Print AUCPR scores\n",
        "print(\"\\n📊 Benchmark Model AUCPR Scores:\")\n",
        "for name, score in aucpr_scores.items():\n",
        "    print(f\"{name}: {score:.4f}\")\n",
        "\n",
        "# Final evaluation on test set using the best model\n",
        "best_model_name = max(aucpr_scores, key=aucpr_scores.get)\n",
        "best_model = trained_models[best_model_name]\n",
        "\n",
        "y_test_pred_proba = best_model.predict_proba(X_test)[:, 1]\n",
        "precision, recall, _ = precision_recall_curve(y_test, y_test_pred_proba)\n",
        "aucpr_test = auc(recall, precision)\n",
        "\n",
        "print(f\"\\n🏆 Final Evaluation on Test Set - {best_model_name}: AUCPR = {aucpr_test:.4f}\")\n",
        "\n",
        "# Confusion Matrix\n",
        "y_test_pred = best_model.predict(X_test)\n",
        "cm = confusion_matrix(y_test, y_test_pred)\n",
        "print(\"\\nConfusion Matrix:\\n\", cm)\n",
        "\n",
        "# Classification Report\n",
        "print(\"\\nClassification Report:\\n\", classification_report(y_test, y_test_pred))"
      ],
      "metadata": {
        "colab": {
          "base_uri": "https://localhost:8080/"
        },
        "id": "_QlB51tjuS-0",
        "outputId": "85900a0b-951d-4700-8c30-e216240e84c9"
      },
      "execution_count": 7,
      "outputs": [
        {
          "output_type": "stream",
          "name": "stdout",
          "text": [
            "\n",
            "🔍 Training LogisticRegression (Hyperparameter Tuning: True)...\n",
            "Fitting 3 folds for each of 60 candidates, totalling 180 fits\n"
          ]
        },
        {
          "output_type": "stream",
          "name": "stderr",
          "text": [
            "\u001b[31m2025/03/03 17:54:23 WARNING mlflow.models.model: Model logged without a signature and input example. Please set `input_example` parameter when logging the model to auto infer the model signature.\u001b[0m\n"
          ]
        },
        {
          "output_type": "stream",
          "name": "stdout",
          "text": [
            "✅ LogisticRegression: Validation AUCPR = 0.9519\n",
            "\n",
            "🔍 Training RandomForest (Hyperparameter Tuning: True)...\n",
            "Fitting 3 folds for each of 81 candidates, totalling 243 fits\n"
          ]
        },
        {
          "output_type": "stream",
          "name": "stderr",
          "text": [
            "\u001b[31m2025/03/03 17:56:46 WARNING mlflow.models.model: Model logged without a signature and input example. Please set `input_example` parameter when logging the model to auto infer the model signature.\u001b[0m\n"
          ]
        },
        {
          "output_type": "stream",
          "name": "stdout",
          "text": [
            "✅ RandomForest: Validation AUCPR = 0.9426\n",
            "\n",
            "🔍 Training DecisionTree (Hyperparameter Tuning: True)...\n",
            "Fitting 3 folds for each of 162 candidates, totalling 486 fits\n"
          ]
        },
        {
          "output_type": "stream",
          "name": "stderr",
          "text": [
            "\u001b[31m2025/03/03 17:58:03 WARNING mlflow.models.model: Model logged without a signature and input example. Please set `input_example` parameter when logging the model to auto infer the model signature.\u001b[0m\n"
          ]
        },
        {
          "output_type": "stream",
          "name": "stdout",
          "text": [
            "✅ DecisionTree: Validation AUCPR = 0.7774\n",
            "\n",
            "🔍 Training SVC (Hyperparameter Tuning: False)...\n"
          ]
        },
        {
          "output_type": "stream",
          "name": "stderr",
          "text": [
            "\u001b[31m2025/03/03 17:58:18 WARNING mlflow.models.model: Model logged without a signature and input example. Please set `input_example` parameter when logging the model to auto infer the model signature.\u001b[0m\n"
          ]
        },
        {
          "output_type": "stream",
          "name": "stdout",
          "text": [
            "✅ SVC: Validation AUCPR = 0.9688\n",
            "\n",
            "📊 Benchmark Model AUCPR Scores:\n",
            "LogisticRegression: 0.9519\n",
            "RandomForest: 0.9426\n",
            "DecisionTree: 0.7774\n",
            "SVC: 0.9688\n",
            "\n",
            "🏆 Final Evaluation on Test Set - SVC: AUCPR = 0.9992\n",
            "\n",
            "Confusion Matrix:\n",
            " [[171   0]\n",
            " [  6  30]]\n",
            "\n",
            "Classification Report:\n",
            "               precision    recall  f1-score   support\n",
            "\n",
            "           0       0.97      1.00      0.98       171\n",
            "           1       1.00      0.83      0.91        36\n",
            "\n",
            "    accuracy                           0.97       207\n",
            "   macro avg       0.98      0.92      0.95       207\n",
            "weighted avg       0.97      0.97      0.97       207\n",
            "\n"
          ]
        }
      ]
    },
    {
      "cell_type": "code",
      "source": [
        "# Predict on test set using the best model (SVC)\n",
        "pred_y = best_model.predict(X_test)\n",
        "\n",
        "# Print classification report\n",
        "print(classification_report(pred_y, y_test))\n",
        "\n",
        "# Display confusion matrix\n",
        "ConfusionMatrixDisplay.from_estimator(best_model, X_test, y_test)\n",
        "plt.show()\n"
      ],
      "metadata": {
        "colab": {
          "base_uri": "https://localhost:8080/",
          "height": 605
        },
        "id": "TO-twkIJrAaP",
        "outputId": "a7b75585-10d4-4620-ae2b-d2683aa27158"
      },
      "execution_count": 8,
      "outputs": [
        {
          "output_type": "stream",
          "name": "stdout",
          "text": [
            "              precision    recall  f1-score   support\n",
            "\n",
            "           0       1.00      0.97      0.98       177\n",
            "           1       0.83      1.00      0.91        30\n",
            "\n",
            "    accuracy                           0.97       207\n",
            "   macro avg       0.92      0.98      0.95       207\n",
            "weighted avg       0.98      0.97      0.97       207\n",
            "\n"
          ]
        },
        {
          "output_type": "display_data",
          "data": {
            "text/plain": [
              "<Figure size 640x480 with 2 Axes>"
            ],
            "image/png": "[encoded data removed]"
          },
          "metadata": {}
        }
      ]
    }
  ]
}